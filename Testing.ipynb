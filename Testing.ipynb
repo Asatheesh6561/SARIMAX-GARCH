{
  "nbformat": 4,
  "nbformat_minor": 0,
  "metadata": {
    "colab": {
      "name": "Testing.ipynb",
      "provenance": [],
      "collapsed_sections": [],
      "authorship_tag": "ABX9TyMigNvpDJ3PfrvfRc4xdDoI",
      "include_colab_link": true
    },
    "kernelspec": {
      "name": "python3",
      "display_name": "Python 3"
    },
    "language_info": {
      "name": "python"
    }
  },
  "cells": [
    {
      "cell_type": "markdown",
      "metadata": {
        "id": "view-in-github",
        "colab_type": "text"
      },
      "source": [
        "<a href=\"https://colab.research.google.com/github/Asatheesh6561/SARIMAX-GARCH/blob/main/Testing.ipynb\" target=\"_parent\"><img src=\"https://colab.research.google.com/assets/colab-badge.svg\" alt=\"Open In Colab\"/></a>"
      ]
    },
    {
      "cell_type": "code",
      "execution_count": null,
      "metadata": {
        "colab": {
          "base_uri": "https://localhost:8080/"
        },
        "id": "8KUkIIB_0qb3",
        "outputId": "798e1e9f-d74e-4870-90a7-59422cad5cbb"
      },
      "outputs": [
        {
          "output_type": "stream",
          "name": "stdout",
          "text": [
            "Requirement already satisfied: statsmodels in /usr/local/lib/python3.7/dist-packages (0.10.2)\n",
            "Requirement already satisfied: numpy>=1.11 in /usr/local/lib/python3.7/dist-packages (from statsmodels) (1.21.5)\n",
            "Requirement already satisfied: pandas>=0.19 in /usr/local/lib/python3.7/dist-packages (from statsmodels) (1.3.5)\n",
            "Requirement already satisfied: patsy>=0.4.0 in /usr/local/lib/python3.7/dist-packages (from statsmodels) (0.5.2)\n",
            "Requirement already satisfied: scipy>=0.18 in /usr/local/lib/python3.7/dist-packages (from statsmodels) (1.4.1)\n",
            "Requirement already satisfied: python-dateutil>=2.7.3 in /usr/local/lib/python3.7/dist-packages (from pandas>=0.19->statsmodels) (2.8.2)\n",
            "Requirement already satisfied: pytz>=2017.3 in /usr/local/lib/python3.7/dist-packages (from pandas>=0.19->statsmodels) (2018.9)\n",
            "Requirement already satisfied: six in /usr/local/lib/python3.7/dist-packages (from patsy>=0.4.0->statsmodels) (1.15.0)\n"
          ]
        }
      ],
      "source": [
        "pip install statsmodels"
      ]
    },
    {
      "cell_type": "code",
      "source": [
        "pip install arch"
      ],
      "metadata": {
        "colab": {
          "base_uri": "https://localhost:8080/"
        },
        "id": "x-h00CJASvMx",
        "outputId": "6dba4c85-7c9d-4d75-8c8d-779a0fa73d68"
      },
      "execution_count": null,
      "outputs": [
        {
          "output_type": "stream",
          "name": "stdout",
          "text": [
            "Collecting arch\n",
            "  Downloading arch-5.2.0-cp37-cp37m-manylinux_2_17_x86_64.manylinux2014_x86_64.whl (902 kB)\n",
            "\u001b[K     |████████████████████████████████| 902 kB 3.8 MB/s \n",
            "\u001b[?25hRequirement already satisfied: scipy>=1.3 in /usr/local/lib/python3.7/dist-packages (from arch) (1.4.1)\n",
            "Requirement already satisfied: numpy>=1.17 in /usr/local/lib/python3.7/dist-packages (from arch) (1.21.5)\n",
            "Collecting property-cached>=1.6.4\n",
            "  Downloading property_cached-1.6.4-py2.py3-none-any.whl (7.8 kB)\n",
            "Collecting statsmodels>=0.11\n",
            "  Downloading statsmodels-0.13.2-cp37-cp37m-manylinux_2_17_x86_64.manylinux2014_x86_64.whl (9.8 MB)\n",
            "\u001b[K     |████████████████████████████████| 9.8 MB 51.9 MB/s \n",
            "\u001b[?25hRequirement already satisfied: pandas>=1.0 in /usr/local/lib/python3.7/dist-packages (from arch) (1.3.5)\n",
            "Requirement already satisfied: python-dateutil>=2.7.3 in /usr/local/lib/python3.7/dist-packages (from pandas>=1.0->arch) (2.8.2)\n",
            "Requirement already satisfied: pytz>=2017.3 in /usr/local/lib/python3.7/dist-packages (from pandas>=1.0->arch) (2018.9)\n",
            "Requirement already satisfied: six>=1.5 in /usr/local/lib/python3.7/dist-packages (from python-dateutil>=2.7.3->pandas>=1.0->arch) (1.15.0)\n",
            "Requirement already satisfied: packaging>=21.3 in /usr/local/lib/python3.7/dist-packages (from statsmodels>=0.11->arch) (21.3)\n",
            "Requirement already satisfied: patsy>=0.5.2 in /usr/local/lib/python3.7/dist-packages (from statsmodels>=0.11->arch) (0.5.2)\n",
            "Requirement already satisfied: pyparsing!=3.0.5,>=2.0.2 in /usr/local/lib/python3.7/dist-packages (from packaging>=21.3->statsmodels>=0.11->arch) (3.0.8)\n",
            "Installing collected packages: statsmodels, property-cached, arch\n",
            "  Attempting uninstall: statsmodels\n",
            "    Found existing installation: statsmodels 0.10.2\n",
            "    Uninstalling statsmodels-0.10.2:\n",
            "      Successfully uninstalled statsmodels-0.10.2\n",
            "Successfully installed arch-5.2.0 property-cached-1.6.4 statsmodels-0.13.2\n"
          ]
        }
      ]
    },
    {
      "cell_type": "code",
      "source": [
        "import warnings\n",
        "import itertools\n",
        "import pandas as pd\n",
        "import numpy as np\n",
        "from arch import arch_model\n",
        "import statsmodels.api as sm\n",
        "import matplotlib.pyplot as plt"
      ],
      "metadata": {
        "id": "-K4pGVCj0yps"
      },
      "execution_count": null,
      "outputs": []
    },
    {
      "cell_type": "code",
      "source": [
        "data = pd.read_excel('train_dataframes.xlsx', parse_dates=['datetime'], index_col='datetime', sheet_name=0)\n",
        "data"
      ],
      "metadata": {
        "colab": {
          "base_uri": "https://localhost:8080/",
          "height": 866
        },
        "id": "l-WX-F7E0-LO",
        "outputId": "79d44cde-00c4-4ff2-9b87-749ac37fdd7f"
      },
      "execution_count": null,
      "outputs": [
        {
          "output_type": "execute_result",
          "data": {
            "text/plain": [
              "                      week_X-2   week_X-3   week_X-4       MA_X-4  dayOfWeek  \\\n",
              "datetime                                                                       \n",
              "2015-01-31 01:00:00   962.2865   906.9580   970.3450   938.004850          1   \n",
              "2015-01-31 02:00:00   933.3221   863.5135   912.1755   900.284075          1   \n",
              "2015-01-31 03:00:00   903.9817   848.4447   900.2688   881.704325          1   \n",
              "2015-01-31 04:00:00   900.9995   839.8821   889.9538   876.458825          1   \n",
              "2015-01-31 05:00:00   904.3481   847.1073   893.6865   879.190775          1   \n",
              "...                        ...        ...        ...          ...        ...   \n",
              "2019-04-09 20:00:00  1362.1477  1376.6220  1335.4711  1360.112475          4   \n",
              "2019-04-09 21:00:00  1330.7467  1338.3879  1305.3631  1332.959900          4   \n",
              "2019-04-09 22:00:00  1275.5550  1281.6932  1240.1208  1279.486450          4   \n",
              "2019-04-09 23:00:00  1200.3537  1209.2950  1165.0237  1199.699525          4   \n",
              "2019-04-10 00:00:00  1141.5161  1149.9883  1099.2100  1130.238133          5   \n",
              "\n",
              "                     weekend  holiday  Holiday_ID  hourOfDay    T2M_toc  \\\n",
              "datetime                                                                  \n",
              "2015-01-31 01:00:00        1        0           0          1  25.308496   \n",
              "2015-01-31 02:00:00        1        0           0          2  25.141443   \n",
              "2015-01-31 03:00:00        1        0           0          3  25.006738   \n",
              "2015-01-31 04:00:00        1        0           0          4  24.899713   \n",
              "2015-01-31 05:00:00        1        0           0          5  24.821558   \n",
              "...                      ...      ...         ...        ...        ...   \n",
              "2019-04-09 20:00:00        0        0           0         20  29.044763   \n",
              "2019-04-09 21:00:00        0        0           0         21  28.539545   \n",
              "2019-04-09 22:00:00        0        0           0         22  28.163232   \n",
              "2019-04-09 23:00:00        0        0           0         23  27.830194   \n",
              "2019-04-10 00:00:00        0        0           0          0  27.522791   \n",
              "\n",
              "                        DEMAND  \n",
              "datetime                        \n",
              "2015-01-31 01:00:00   954.2018  \n",
              "2015-01-31 02:00:00   913.8660  \n",
              "2015-01-31 03:00:00   903.3637  \n",
              "2015-01-31 04:00:00   889.0806  \n",
              "2015-01-31 05:00:00   910.1472  \n",
              "...                        ...  \n",
              "2019-04-09 20:00:00  1397.5788  \n",
              "2019-04-09 21:00:00  1350.5093  \n",
              "2019-04-09 22:00:00  1308.7955  \n",
              "2019-04-09 23:00:00  1232.4521  \n",
              "2019-04-10 00:00:00  1155.5925  \n",
              "\n",
              "[36720 rows x 11 columns]"
            ],
            "text/html": [
              "\n",
              "  <div id=\"df-55874f6b-5815-46bd-ae0f-7c92c2344c0f\">\n",
              "    <div class=\"colab-df-container\">\n",
              "      <div>\n",
              "<style scoped>\n",
              "    .dataframe tbody tr th:only-of-type {\n",
              "        vertical-align: middle;\n",
              "    }\n",
              "\n",
              "    .dataframe tbody tr th {\n",
              "        vertical-align: top;\n",
              "    }\n",
              "\n",
              "    .dataframe thead th {\n",
              "        text-align: right;\n",
              "    }\n",
              "</style>\n",
              "<table border=\"1\" class=\"dataframe\">\n",
              "  <thead>\n",
              "    <tr style=\"text-align: right;\">\n",
              "      <th></th>\n",
              "      <th>week_X-2</th>\n",
              "      <th>week_X-3</th>\n",
              "      <th>week_X-4</th>\n",
              "      <th>MA_X-4</th>\n",
              "      <th>dayOfWeek</th>\n",
              "      <th>weekend</th>\n",
              "      <th>holiday</th>\n",
              "      <th>Holiday_ID</th>\n",
              "      <th>hourOfDay</th>\n",
              "      <th>T2M_toc</th>\n",
              "      <th>DEMAND</th>\n",
              "    </tr>\n",
              "    <tr>\n",
              "      <th>datetime</th>\n",
              "      <th></th>\n",
              "      <th></th>\n",
              "      <th></th>\n",
              "      <th></th>\n",
              "      <th></th>\n",
              "      <th></th>\n",
              "      <th></th>\n",
              "      <th></th>\n",
              "      <th></th>\n",
              "      <th></th>\n",
              "      <th></th>\n",
              "    </tr>\n",
              "  </thead>\n",
              "  <tbody>\n",
              "    <tr>\n",
              "      <th>2015-01-31 01:00:00</th>\n",
              "      <td>962.2865</td>\n",
              "      <td>906.9580</td>\n",
              "      <td>970.3450</td>\n",
              "      <td>938.004850</td>\n",
              "      <td>1</td>\n",
              "      <td>1</td>\n",
              "      <td>0</td>\n",
              "      <td>0</td>\n",
              "      <td>1</td>\n",
              "      <td>25.308496</td>\n",
              "      <td>954.2018</td>\n",
              "    </tr>\n",
              "    <tr>\n",
              "      <th>2015-01-31 02:00:00</th>\n",
              "      <td>933.3221</td>\n",
              "      <td>863.5135</td>\n",
              "      <td>912.1755</td>\n",
              "      <td>900.284075</td>\n",
              "      <td>1</td>\n",
              "      <td>1</td>\n",
              "      <td>0</td>\n",
              "      <td>0</td>\n",
              "      <td>2</td>\n",
              "      <td>25.141443</td>\n",
              "      <td>913.8660</td>\n",
              "    </tr>\n",
              "    <tr>\n",
              "      <th>2015-01-31 03:00:00</th>\n",
              "      <td>903.9817</td>\n",
              "      <td>848.4447</td>\n",
              "      <td>900.2688</td>\n",
              "      <td>881.704325</td>\n",
              "      <td>1</td>\n",
              "      <td>1</td>\n",
              "      <td>0</td>\n",
              "      <td>0</td>\n",
              "      <td>3</td>\n",
              "      <td>25.006738</td>\n",
              "      <td>903.3637</td>\n",
              "    </tr>\n",
              "    <tr>\n",
              "      <th>2015-01-31 04:00:00</th>\n",
              "      <td>900.9995</td>\n",
              "      <td>839.8821</td>\n",
              "      <td>889.9538</td>\n",
              "      <td>876.458825</td>\n",
              "      <td>1</td>\n",
              "      <td>1</td>\n",
              "      <td>0</td>\n",
              "      <td>0</td>\n",
              "      <td>4</td>\n",
              "      <td>24.899713</td>\n",
              "      <td>889.0806</td>\n",
              "    </tr>\n",
              "    <tr>\n",
              "      <th>2015-01-31 05:00:00</th>\n",
              "      <td>904.3481</td>\n",
              "      <td>847.1073</td>\n",
              "      <td>893.6865</td>\n",
              "      <td>879.190775</td>\n",
              "      <td>1</td>\n",
              "      <td>1</td>\n",
              "      <td>0</td>\n",
              "      <td>0</td>\n",
              "      <td>5</td>\n",
              "      <td>24.821558</td>\n",
              "      <td>910.1472</td>\n",
              "    </tr>\n",
              "    <tr>\n",
              "      <th>...</th>\n",
              "      <td>...</td>\n",
              "      <td>...</td>\n",
              "      <td>...</td>\n",
              "      <td>...</td>\n",
              "      <td>...</td>\n",
              "      <td>...</td>\n",
              "      <td>...</td>\n",
              "      <td>...</td>\n",
              "      <td>...</td>\n",
              "      <td>...</td>\n",
              "      <td>...</td>\n",
              "    </tr>\n",
              "    <tr>\n",
              "      <th>2019-04-09 20:00:00</th>\n",
              "      <td>1362.1477</td>\n",
              "      <td>1376.6220</td>\n",
              "      <td>1335.4711</td>\n",
              "      <td>1360.112475</td>\n",
              "      <td>4</td>\n",
              "      <td>0</td>\n",
              "      <td>0</td>\n",
              "      <td>0</td>\n",
              "      <td>20</td>\n",
              "      <td>29.044763</td>\n",
              "      <td>1397.5788</td>\n",
              "    </tr>\n",
              "    <tr>\n",
              "      <th>2019-04-09 21:00:00</th>\n",
              "      <td>1330.7467</td>\n",
              "      <td>1338.3879</td>\n",
              "      <td>1305.3631</td>\n",
              "      <td>1332.959900</td>\n",
              "      <td>4</td>\n",
              "      <td>0</td>\n",
              "      <td>0</td>\n",
              "      <td>0</td>\n",
              "      <td>21</td>\n",
              "      <td>28.539545</td>\n",
              "      <td>1350.5093</td>\n",
              "    </tr>\n",
              "    <tr>\n",
              "      <th>2019-04-09 22:00:00</th>\n",
              "      <td>1275.5550</td>\n",
              "      <td>1281.6932</td>\n",
              "      <td>1240.1208</td>\n",
              "      <td>1279.486450</td>\n",
              "      <td>4</td>\n",
              "      <td>0</td>\n",
              "      <td>0</td>\n",
              "      <td>0</td>\n",
              "      <td>22</td>\n",
              "      <td>28.163232</td>\n",
              "      <td>1308.7955</td>\n",
              "    </tr>\n",
              "    <tr>\n",
              "      <th>2019-04-09 23:00:00</th>\n",
              "      <td>1200.3537</td>\n",
              "      <td>1209.2950</td>\n",
              "      <td>1165.0237</td>\n",
              "      <td>1199.699525</td>\n",
              "      <td>4</td>\n",
              "      <td>0</td>\n",
              "      <td>0</td>\n",
              "      <td>0</td>\n",
              "      <td>23</td>\n",
              "      <td>27.830194</td>\n",
              "      <td>1232.4521</td>\n",
              "    </tr>\n",
              "    <tr>\n",
              "      <th>2019-04-10 00:00:00</th>\n",
              "      <td>1141.5161</td>\n",
              "      <td>1149.9883</td>\n",
              "      <td>1099.2100</td>\n",
              "      <td>1130.238133</td>\n",
              "      <td>5</td>\n",
              "      <td>0</td>\n",
              "      <td>0</td>\n",
              "      <td>0</td>\n",
              "      <td>0</td>\n",
              "      <td>27.522791</td>\n",
              "      <td>1155.5925</td>\n",
              "    </tr>\n",
              "  </tbody>\n",
              "</table>\n",
              "<p>36720 rows × 11 columns</p>\n",
              "</div>\n",
              "      <button class=\"colab-df-convert\" onclick=\"convertToInteractive('df-55874f6b-5815-46bd-ae0f-7c92c2344c0f')\"\n",
              "              title=\"Convert this dataframe to an interactive table.\"\n",
              "              style=\"display:none;\">\n",
              "        \n",
              "  <svg xmlns=\"http://www.w3.org/2000/svg\" height=\"24px\"viewBox=\"0 0 24 24\"\n",
              "       width=\"24px\">\n",
              "    <path d=\"M0 0h24v24H0V0z\" fill=\"none\"/>\n",
              "    <path d=\"M18.56 5.44l.94 2.06.94-2.06 2.06-.94-2.06-.94-.94-2.06-.94 2.06-2.06.94zm-11 1L8.5 8.5l.94-2.06 2.06-.94-2.06-.94L8.5 2.5l-.94 2.06-2.06.94zm10 10l.94 2.06.94-2.06 2.06-.94-2.06-.94-.94-2.06-.94 2.06-2.06.94z\"/><path d=\"M17.41 7.96l-1.37-1.37c-.4-.4-.92-.59-1.43-.59-.52 0-1.04.2-1.43.59L10.3 9.45l-7.72 7.72c-.78.78-.78 2.05 0 2.83L4 21.41c.39.39.9.59 1.41.59.51 0 1.02-.2 1.41-.59l7.78-7.78 2.81-2.81c.8-.78.8-2.07 0-2.86zM5.41 20L4 18.59l7.72-7.72 1.47 1.35L5.41 20z\"/>\n",
              "  </svg>\n",
              "      </button>\n",
              "      \n",
              "  <style>\n",
              "    .colab-df-container {\n",
              "      display:flex;\n",
              "      flex-wrap:wrap;\n",
              "      gap: 12px;\n",
              "    }\n",
              "\n",
              "    .colab-df-convert {\n",
              "      background-color: #E8F0FE;\n",
              "      border: none;\n",
              "      border-radius: 50%;\n",
              "      cursor: pointer;\n",
              "      display: none;\n",
              "      fill: #1967D2;\n",
              "      height: 32px;\n",
              "      padding: 0 0 0 0;\n",
              "      width: 32px;\n",
              "    }\n",
              "\n",
              "    .colab-df-convert:hover {\n",
              "      background-color: #E2EBFA;\n",
              "      box-shadow: 0px 1px 2px rgba(60, 64, 67, 0.3), 0px 1px 3px 1px rgba(60, 64, 67, 0.15);\n",
              "      fill: #174EA6;\n",
              "    }\n",
              "\n",
              "    [theme=dark] .colab-df-convert {\n",
              "      background-color: #3B4455;\n",
              "      fill: #D2E3FC;\n",
              "    }\n",
              "\n",
              "    [theme=dark] .colab-df-convert:hover {\n",
              "      background-color: #434B5C;\n",
              "      box-shadow: 0px 1px 3px 1px rgba(0, 0, 0, 0.15);\n",
              "      filter: drop-shadow(0px 1px 2px rgba(0, 0, 0, 0.3));\n",
              "      fill: #FFFFFF;\n",
              "    }\n",
              "  </style>\n",
              "\n",
              "      <script>\n",
              "        const buttonEl =\n",
              "          document.querySelector('#df-55874f6b-5815-46bd-ae0f-7c92c2344c0f button.colab-df-convert');\n",
              "        buttonEl.style.display =\n",
              "          google.colab.kernel.accessAllowed ? 'block' : 'none';\n",
              "\n",
              "        async function convertToInteractive(key) {\n",
              "          const element = document.querySelector('#df-55874f6b-5815-46bd-ae0f-7c92c2344c0f');\n",
              "          const dataTable =\n",
              "            await google.colab.kernel.invokeFunction('convertToInteractive',\n",
              "                                                     [key], {});\n",
              "          if (!dataTable) return;\n",
              "\n",
              "          const docLinkHtml = 'Like what you see? Visit the ' +\n",
              "            '<a target=\"_blank\" href=https://colab.research.google.com/notebooks/data_table.ipynb>data table notebook</a>'\n",
              "            + ' to learn more about interactive tables.';\n",
              "          element.innerHTML = '';\n",
              "          dataTable['output_type'] = 'display_data';\n",
              "          await google.colab.output.renderOutput(dataTable, element);\n",
              "          const docLink = document.createElement('div');\n",
              "          docLink.innerHTML = docLinkHtml;\n",
              "          element.appendChild(docLink);\n",
              "        }\n",
              "      </script>\n",
              "    </div>\n",
              "  </div>\n",
              "  "
            ]
          },
          "metadata": {},
          "execution_count": 6
        }
      ]
    },
    {
      "cell_type": "code",
      "source": [
        "p = d = q = range(0, 2)\n",
        "pdq = list(itertools.product(p, d, q))\n",
        "seasonal_pdq = [(x[0], x[1], x[2], 12) for x in list(itertools.product(p, d, q))]"
      ],
      "metadata": {
        "colab": {
          "base_uri": "https://localhost:8080/"
        },
        "id": "q1YZ0nab7bOM",
        "outputId": "089ce4a8-0f76-471a-dbf5-5a2ca532a8df"
      },
      "execution_count": null,
      "outputs": [
        {
          "output_type": "stream",
          "name": "stdout",
          "text": [
            "Examples of parameter combinations for Seasonal ARIMA...\n",
            "SARIMAX: (0, 0, 1) x (0, 0, 1, 12)\n",
            "SARIMAX: (0, 0, 1) x (0, 1, 0, 12)\n",
            "SARIMAX: (0, 1, 0) x (0, 1, 1, 12)\n",
            "SARIMAX: (0, 1, 0) x (1, 0, 0, 12)\n"
          ]
        }
      ]
    },
    {
      "cell_type": "code",
      "source": [
        "d = {}\n",
        "for param in pdq:\n",
        "    for param_seasonal in seasonal_pdq:\n",
        "        try:\n",
        "            mod = sm.tsa.statespace.SARIMAX(data,\n",
        "                                            order=param,\n",
        "                                            seasonal_order=param_seasonal,\n",
        "                                            enforce_stationarity=True,\n",
        "                                            enforce_invertibility=False, seasonality=True)\n",
        "\n",
        "            results = mod.fit()\n",
        "            print('ARIMA{}x{}12 - AIC:{}'.format(param, param_seasonal, results.aic))\n",
        "            d[(param, param_seasonal)] = results.aic\n",
        "        except:\n",
        "            continue"
      ],
      "metadata": {
        "colab": {
          "base_uri": "https://localhost:8080/"
        },
        "id": "EcEHgFie9Wpu",
        "outputId": "d1fd6791-4e0d-429a-b546-3d876bb065dd"
      },
      "execution_count": null,
      "outputs": [
        {
          "output_type": "stream",
          "name": "stdout",
          "text": [
            "ARIMA(0, 0, 0)x(0, 0, 0, 12)12 - AIC:1602.664532172337\n",
            "ARIMA(0, 0, 0)x(0, 0, 1, 12)12 - AIC:1381.3223484756493\n",
            "ARIMA(0, 0, 0)x(0, 1, 0, 12)12 - AIC:757.2744366540206\n",
            "ARIMA(0, 0, 0)x(0, 1, 1, 12)12 - AIC:714.8464434874355\n",
            "ARIMA(0, 0, 0)x(1, 0, 0, 12)12 - AIC:860.1118278567079\n",
            "ARIMA(0, 0, 0)x(1, 0, 1, 12)12 - AIC:817.9160755101017\n",
            "ARIMA(0, 0, 0)x(1, 1, 0, 12)12 - AIC:691.4796075702606\n",
            "ARIMA(0, 0, 0)x(1, 1, 1, 12)12 - AIC:652.9104996161368\n",
            "ARIMA(0, 0, 1)x(0, 0, 0, 12)12 - AIC:1392.7126407984165\n",
            "ARIMA(0, 0, 1)x(0, 0, 1, 12)12 - AIC:1179.7261394997604\n",
            "ARIMA(0, 0, 1)x(0, 1, 0, 12)12 - AIC:699.0755278556753\n",
            "ARIMA(0, 0, 1)x(0, 1, 1, 12)12 - AIC:681.2633953035668\n",
            "ARIMA(0, 0, 1)x(1, 0, 0, 12)12 - AIC:792.7594821833868\n",
            "ARIMA(0, 0, 1)x(1, 0, 1, 12)12 - AIC:776.1471438307349\n",
            "ARIMA(0, 0, 1)x(1, 1, 0, 12)12 - AIC:674.3248522796207\n",
            "ARIMA(0, 0, 1)x(1, 1, 1, 12)12 - AIC:643.128731999748\n",
            "ARIMA(0, 1, 0)x(0, 0, 0, 12)12 - AIC:905.1397808427533\n",
            "ARIMA(0, 1, 0)x(0, 0, 1, 12)12 - AIC:776.5634205802294\n",
            "ARIMA(0, 1, 0)x(0, 1, 0, 12)12 - AIC:659.2449110313893\n",
            "ARIMA(0, 1, 0)x(0, 1, 1, 12)12 - AIC:634.8701071591219\n",
            "ARIMA(0, 1, 0)x(1, 0, 0, 12)12 - AIC:698.47239108127\n",
            "ARIMA(0, 1, 0)x(1, 0, 1, 12)12 - AIC:687.1863348594768\n",
            "ARIMA(0, 1, 0)x(1, 1, 0, 12)12 - AIC:650.8096782405902\n",
            "ARIMA(0, 1, 0)x(1, 1, 1, 12)12 - AIC:635.0679998415108\n",
            "ARIMA(0, 1, 1)x(0, 0, 0, 12)12 - AIC:864.2827884311154\n",
            "ARIMA(0, 1, 1)x(0, 0, 1, 12)12 - AIC:721.3323130162307\n",
            "ARIMA(0, 1, 1)x(0, 1, 0, 12)12 - AIC:557.3163620429453\n",
            "ARIMA(0, 1, 1)x(0, 1, 1, 12)12 - AIC:529.5390379602485\n",
            "ARIMA(0, 1, 1)x(1, 0, 0, 12)12 - AIC:602.1846999399755\n",
            "ARIMA(0, 1, 1)x(1, 0, 1, 12)12 - AIC:582.5256199292301\n",
            "ARIMA(0, 1, 1)x(1, 1, 0, 12)12 - AIC:538.0297471192438\n",
            "ARIMA(0, 1, 1)x(1, 1, 1, 12)12 - AIC:531.5238083227437\n",
            "ARIMA(1, 0, 0)x(0, 0, 0, 12)12 - AIC:913.571356710121\n",
            "ARIMA(1, 0, 0)x(0, 0, 1, 12)12 - AIC:783.6892108172949\n",
            "ARIMA(1, 0, 0)x(0, 1, 0, 12)12 - AIC:632.9166949995432\n",
            "ARIMA(1, 0, 0)x(0, 1, 1, 12)12 - AIC:629.1784511004616\n",
            "ARIMA(1, 0, 0)x(1, 0, 0, 12)12 - AIC:696.7985248352915\n",
            "ARIMA(1, 0, 0)x(1, 0, 1, 12)12 - AIC:686.7171343692332\n",
            "ARIMA(1, 0, 0)x(1, 1, 0, 12)12 - AIC:632.9299346458615\n",
            "ARIMA(1, 0, 0)x(1, 1, 1, 12)12 - AIC:628.9852845307792\n",
            "ARIMA(1, 0, 1)x(0, 0, 0, 12)12 - AIC:874.4163426218199\n",
            "ARIMA(1, 0, 1)x(0, 0, 1, 12)12 - AIC:731.4918967444023\n",
            "ARIMA(1, 0, 1)x(0, 1, 0, 12)12 - AIC:561.8206801355911\n",
            "ARIMA(1, 0, 1)x(0, 1, 1, 12)12 - AIC:535.1459176991336\n",
            "ARIMA(1, 0, 1)x(1, 0, 0, 12)12 - AIC:612.5423776773575\n",
            "ARIMA(1, 0, 1)x(1, 0, 1, 12)12 - AIC:594.2583830479657\n",
            "ARIMA(1, 0, 1)x(1, 1, 0, 12)12 - AIC:543.6989056784746\n",
            "ARIMA(1, 0, 1)x(1, 1, 1, 12)12 - AIC:537.143168344722\n",
            "ARIMA(1, 1, 0)x(0, 0, 0, 12)12 - AIC:878.1969644994243\n",
            "ARIMA(1, 1, 0)x(0, 0, 1, 12)12 - AIC:745.5659604922835\n",
            "ARIMA(1, 1, 0)x(0, 1, 0, 12)12 - AIC:582.379833554855\n",
            "ARIMA(1, 1, 0)x(0, 1, 1, 12)12 - AIC:553.0456166644207\n",
            "ARIMA(1, 1, 0)x(1, 0, 0, 12)12 - AIC:628.9787891692221\n",
            "ARIMA(1, 1, 0)x(1, 0, 1, 12)12 - AIC:607.0584185999983\n",
            "ARIMA(1, 1, 0)x(1, 1, 0, 12)12 - AIC:560.5579861800131\n",
            "ARIMA(1, 1, 0)x(1, 1, 1, 12)12 - AIC:554.9423858336554\n",
            "ARIMA(1, 1, 1)x(0, 0, 0, 12)12 - AIC:855.5236287469814\n",
            "ARIMA(1, 1, 1)x(0, 0, 1, 12)12 - AIC:718.1911013371978\n",
            "ARIMA(1, 1, 1)x(0, 1, 0, 12)12 - AIC:554.7671285516121\n",
            "ARIMA(1, 1, 1)x(0, 1, 1, 12)12 - AIC:525.634351464859\n",
            "ARIMA(1, 1, 1)x(1, 0, 0, 12)12 - AIC:601.938541653234\n",
            "ARIMA(1, 1, 1)x(1, 0, 1, 12)12 - AIC:580.4258213644496\n",
            "ARIMA(1, 1, 1)x(1, 1, 0, 12)12 - AIC:530.9757601502499\n",
            "ARIMA(1, 1, 1)x(1, 1, 1, 12)12 - AIC:527.1190608028669\n"
          ]
        }
      ]
    },
    {
      "cell_type": "code",
      "source": [
        "print(d[min(d, key=lambda a:d[a])])"
      ],
      "metadata": {
        "colab": {
          "base_uri": "https://localhost:8080/"
        },
        "id": "BgiXJJZMRx7k",
        "outputId": "41007e29-b064-41ae-94f4-11f488b040e3"
      },
      "execution_count": null,
      "outputs": [
        {
          "output_type": "stream",
          "name": "stdout",
          "text": [
            "525.634351464859\n"
          ]
        }
      ]
    },
    {
      "cell_type": "code",
      "source": [
        "mod = sm.tsa.statespace.SARIMAX(data,\n",
        "                                order=(1, 1, 1),\n",
        "                                seasonal_order=(0, 1, 1, 12),\n",
        "                                enforce_stationarity=True,\n",
        "                                enforce_invertibility=False, seasonality=True)\n",
        "results = mod.fit()\n",
        "garch_model = arch_model(results.resid, p=1, q=1)\n",
        "garch_fitted = garch_model.fit()\n",
        "\n",
        "# print(results.summary().tables[1])\n",
        "print(garch_fitted, results)"
      ],
      "metadata": {
        "colab": {
          "base_uri": "https://localhost:8080/"
        },
        "id": "qUzTmruK9phU",
        "outputId": "7b03dc62-ff2b-48b5-ee2b-145dc387bc42"
      },
      "execution_count": null,
      "outputs": [
        {
          "output_type": "stream",
          "name": "stdout",
          "text": [
            "Iteration:      1,   Func. Count:      6,   Neg. LLF: 225.9630576798655\n",
            "Iteration:      2,   Func. Count:     17,   Neg. LLF: 225.63261206257414\n",
            "Iteration:      3,   Func. Count:     26,   Neg. LLF: 225.57136192957543\n",
            "Iteration:      4,   Func. Count:     33,   Neg. LLF: 225.33309360534656\n",
            "Iteration:      5,   Func. Count:     40,   Neg. LLF: 224.9455785328758\n",
            "Iteration:      6,   Func. Count:     47,   Neg. LLF: 224.6697051836671\n",
            "Iteration:      7,   Func. Count:     53,   Neg. LLF: 224.5515220450373\n",
            "Iteration:      8,   Func. Count:     60,   Neg. LLF: 224.54838610097397\n",
            "Iteration:      9,   Func. Count:     67,   Neg. LLF: 224.53104434078736\n",
            "Iteration:     10,   Func. Count:     73,   Neg. LLF: 224.52989201610322\n",
            "Iteration:     11,   Func. Count:     79,   Neg. LLF: 224.5298714318803\n",
            "Optimization terminated successfully.    (Exit mode 0)\n",
            "            Current function value: 224.52987149011315\n",
            "            Iterations: 11\n",
            "            Function evaluations: 79\n",
            "            Gradient evaluations: 11\n",
            "                     Constant Mean - GARCH Model Results                      \n",
            "==============================================================================\n",
            "Dep. Variable:                   None   R-squared:                       0.000\n",
            "Mean Model:             Constant Mean   Adj. R-squared:                  0.000\n",
            "Vol Model:                      GARCH   Log-Likelihood:               -224.530\n",
            "Distribution:                  Normal   AIC:                           457.060\n",
            "Method:            Maximum Likelihood   BIC:                           470.332\n",
            "                                        No. Observations:                  204\n",
            "Date:                Mon, Feb 21 2022   Df Residuals:                      203\n",
            "Time:                        21:34:11   Df Model:                            1\n",
            "                                 Mean Model                                \n",
            "===========================================================================\n",
            "                 coef    std err          t      P>|t|     95.0% Conf. Int.\n",
            "---------------------------------------------------------------------------\n",
            "mu             0.0394  3.894e-02      1.012      0.312 [-3.691e-02,  0.116]\n",
            "                               Volatility Model                              \n",
            "=============================================================================\n",
            "                 coef    std err          t      P>|t|       95.0% Conf. Int.\n",
            "-----------------------------------------------------------------------------\n",
            "omega      8.7565e-03  9.148e-03      0.957      0.338 [-9.174e-03,2.669e-02]\n",
            "alpha[1]       0.1420  4.245e-02      3.344  8.252e-04    [5.876e-02,  0.225]\n",
            "beta[1]        0.8580  4.912e-02     17.469  2.459e-68      [  0.762,  0.954]\n",
            "=============================================================================\n",
            "\n",
            "Covariance estimator: robust <statsmodels.tsa.statespace.sarimax.SARIMAXResultsWrapper object at 0x7f9bb5fb5e10>\n"
          ]
        }
      ]
    },
    {
      "cell_type": "code",
      "source": [
        ""
      ],
      "metadata": {
        "id": "u1B1B5rtSerg"
      },
      "execution_count": null,
      "outputs": []
    },
    {
      "cell_type": "code",
      "source": [
        "results.summary()"
      ],
      "metadata": {
        "colab": {
          "base_uri": "https://localhost:8080/",
          "height": 452
        },
        "id": "bY6ln7PWO3kQ",
        "outputId": "b793e09c-2ef3-4e0b-cfb2-4e6b62aa30ee"
      },
      "execution_count": null,
      "outputs": [
        {
          "output_type": "execute_result",
          "data": {
            "text/html": [
              "<table class=\"simpletable\">\n",
              "<caption>SARIMAX Results</caption>\n",
              "<tr>\n",
              "  <th>Dep. Variable:</th>                <td>value</td>             <th>  No. Observations:  </th>    <td>204</td>  \n",
              "</tr>\n",
              "<tr>\n",
              "  <th>Model:</th>           <td>SARIMAX(1, 1, 1)x(0, 1, 1, 12)</td> <th>  Log Likelihood     </th> <td>-258.817</td>\n",
              "</tr>\n",
              "<tr>\n",
              "  <th>Date:</th>                   <td>Mon, 21 Feb 2022</td>        <th>  AIC                </th>  <td>525.634</td>\n",
              "</tr>\n",
              "<tr>\n",
              "  <th>Time:</th>                       <td>21:34:14</td>            <th>  BIC                </th>  <td>538.643</td>\n",
              "</tr>\n",
              "<tr>\n",
              "  <th>Sample:</th>                    <td>07-01-1991</td>           <th>  HQIC               </th>  <td>530.904</td>\n",
              "</tr>\n",
              "<tr>\n",
              "  <th></th>                          <td>- 06-01-2008</td>          <th>                     </th>     <td> </td>   \n",
              "</tr>\n",
              "<tr>\n",
              "  <th>Covariance Type:</th>               <td>opg</td>              <th>                     </th>     <td> </td>   \n",
              "</tr>\n",
              "</table>\n",
              "<table class=\"simpletable\">\n",
              "<tr>\n",
              "      <td></td>        <th>coef</th>     <th>std err</th>      <th>z</th>      <th>P>|z|</th>  <th>[0.025</th>    <th>0.975]</th>  \n",
              "</tr>\n",
              "<tr>\n",
              "  <th>ar.L1</th>    <td>   -0.2504</td> <td>    0.051</td> <td>   -4.922</td> <td> 0.000</td> <td>   -0.350</td> <td>   -0.151</td>\n",
              "</tr>\n",
              "<tr>\n",
              "  <th>ma.L1</th>    <td>   -0.6674</td> <td>    0.049</td> <td>  -13.615</td> <td> 0.000</td> <td>   -0.763</td> <td>   -0.571</td>\n",
              "</tr>\n",
              "<tr>\n",
              "  <th>ma.S.L12</th> <td>   -0.4725</td> <td>    0.057</td> <td>   -8.236</td> <td> 0.000</td> <td>   -0.585</td> <td>   -0.360</td>\n",
              "</tr>\n",
              "<tr>\n",
              "  <th>sigma2</th>   <td>    0.8618</td> <td>    0.049</td> <td>   17.707</td> <td> 0.000</td> <td>    0.766</td> <td>    0.957</td>\n",
              "</tr>\n",
              "</table>\n",
              "<table class=\"simpletable\">\n",
              "<tr>\n",
              "  <th>Ljung-Box (L1) (Q):</th>     <td>0.01</td>  <th>  Jarque-Bera (JB):  </th> <td>203.98</td>\n",
              "</tr>\n",
              "<tr>\n",
              "  <th>Prob(Q):</th>                <td>0.94</td>  <th>  Prob(JB):          </th>  <td>0.00</td> \n",
              "</tr>\n",
              "<tr>\n",
              "  <th>Heteroskedasticity (H):</th> <td>15.99</td> <th>  Skew:              </th>  <td>-0.33</td>\n",
              "</tr>\n",
              "<tr>\n",
              "  <th>Prob(H) (two-sided):</th>    <td>0.00</td>  <th>  Kurtosis:          </th>  <td>8.02</td> \n",
              "</tr>\n",
              "</table><br/><br/>Warnings:<br/>[1] Covariance matrix calculated using the outer product of gradients (complex-step)."
            ],
            "text/plain": [
              "<class 'statsmodels.iolib.summary.Summary'>\n",
              "\"\"\"\n",
              "                                     SARIMAX Results                                      \n",
              "==========================================================================================\n",
              "Dep. Variable:                              value   No. Observations:                  204\n",
              "Model:             SARIMAX(1, 1, 1)x(0, 1, 1, 12)   Log Likelihood                -258.817\n",
              "Date:                            Mon, 21 Feb 2022   AIC                            525.634\n",
              "Time:                                    21:34:14   BIC                            538.643\n",
              "Sample:                                07-01-1991   HQIC                           530.904\n",
              "                                     - 06-01-2008                                         \n",
              "Covariance Type:                              opg                                         \n",
              "==============================================================================\n",
              "                 coef    std err          z      P>|z|      [0.025      0.975]\n",
              "------------------------------------------------------------------------------\n",
              "ar.L1         -0.2504      0.051     -4.922      0.000      -0.350      -0.151\n",
              "ma.L1         -0.6674      0.049    -13.615      0.000      -0.763      -0.571\n",
              "ma.S.L12      -0.4725      0.057     -8.236      0.000      -0.585      -0.360\n",
              "sigma2         0.8618      0.049     17.707      0.000       0.766       0.957\n",
              "===================================================================================\n",
              "Ljung-Box (L1) (Q):                   0.01   Jarque-Bera (JB):               203.98\n",
              "Prob(Q):                              0.94   Prob(JB):                         0.00\n",
              "Heteroskedasticity (H):              15.99   Skew:                            -0.33\n",
              "Prob(H) (two-sided):                  0.00   Kurtosis:                         8.02\n",
              "===================================================================================\n",
              "\n",
              "Warnings:\n",
              "[1] Covariance matrix calculated using the outer product of gradients (complex-step).\n",
              "\"\"\""
            ]
          },
          "metadata": {},
          "execution_count": 20
        }
      ]
    },
    {
      "cell_type": "code",
      "source": [
        "results.plot_diagnostics(figsize=(15, 12))\n",
        "plt.show()\n",
        "residuals = [abs(i) for i in results.resid]\n",
        "print(sum(residuals)/len(residuals))\n",
        "print(residuals)"
      ],
      "metadata": {
        "colab": {
          "base_uri": "https://localhost:8080/",
          "height": 785
        },
        "id": "Pney_uR19yBM",
        "outputId": "99983469-2cd1-4915-8f47-35360459b04d"
      },
      "execution_count": null,
      "outputs": [
        {
          "output_type": "display_data",
          "data": {
            "image/png": "[encoded data removed]",
            "text/plain": [
              "<Figure size 1080x864 with 4 Axes>"
            ]
          },
          "metadata": {
            "needs_background": "light"
          }
        },
        {
          "output_type": "stream",
          "name": "stdout",
          "text": [
            "0.627718713915361\n",
            "[3.526591, 0.3456978753680331, 0.07132905139898726, 0.35878232348885586, 0.04513364865664293, 0.7405018574326978, 0.7819649287421528, 2.2738142935479937, 0.17128809598331118, 0.21896988307042742, 0.07720175539685847, 0.14294403947322243, 1.2959679685717558, 0.16662162554035964, 0.2473894092432558, 0.03829630899896008, 0.43048989434523266, 1.0889200885616441, 0.48754077431684273, 0.2441307649049551, 0.12988422589088255, 0.30399890585828127, 0.02650802527843643, 0.07631745174322369, 0.27370608015995934, 0.24256729438704294, 0.16053709850056386, 0.0940572294526838, 0.05522956971935766, 1.0028588599023376, 0.0848561535885235, 0.6326346635481759, 0.2155135910530923, 0.4502081159387519, 0.009989270426436825, 0.07015545537155976, 0.2715100963186794, 0.3175960207865973, 0.10845172579636575, 0.02838514755601551, 0.0899907959767896, 1.1450501320711997, 0.5268262951140024, 0.007539129812516698, 0.3585651752766976, 0.3378667644458986, 0.3117448468461914, 0.09146486947708254, 0.1403510855005301, 0.13423045075335693, 0.17628961897644313, 0.3081041357832408, 0.11029807999033814, 0.1342396289031882, 0.7933028408213394, 0.05649419349655993, 0.5143674316521905, 0.0284019272777849, 0.3161945845829992, 0.20516652380568434, 0.3804467315376403, 0.24567682797048906, 0.04574221618711416, 0.10094186287678575, 0.30028718516949926, 0.4891006458123588, 0.17930262169994826, 0.5788717828818823, 0.3998084006052913, 0.13512405930388827, 0.04389871852177407, 0.3721865330039211, 0.24759485747385668, 0.33408483995115734, 0.21525131954156418, 0.47946047597454644, 0.04375570543380203, 0.9761228635036598, 0.6172655419510864, 0.5669000294861419, 0.11313698134579919, 0.1995946535577664, 0.09537730229840502, 0.23721706121959496, 0.2208333773147677, 0.11245597941810903, 0.4202092467389029, 0.06988994770889434, 0.3927297263948031, 0.19143030210451784, 0.4743414216450166, 0.563216696549409, 0.5013946201169075, 0.373462881653742, 0.20758397317213362, 0.02437322655995544, 0.11251985835768252, 0.7180099938904583, 0.16025672040407102, 0.1537218580345776, 0.47295552377431527, 0.005843979998898519, 1.2227873246935683, 0.39701136079952626, 0.6290794028450684, 0.23375223695043168, 0.2995051750018227, 0.2675566695714746, 0.9474954411850671, 0.5728385597600383, 0.7463873452134493, 0.8949826947137609, 0.25066574703057576, 1.103190000945494, 1.0640584891249532, 0.8965068613686054, 0.010122874164746776, 0.06475710960061498, 0.24547278927251526, 0.820320733378006, 0.24218282127498902, 0.26849926475096275, 0.5290246186542973, 0.43915427319696043, 1.5723977435471426, 0.6499704735488248, 0.9704635205753416, 0.6805733109117789, 1.6813173636811776, 0.1393189842933822, 0.6013988593370758, 0.2722782483949029, 0.30503197912267055, 0.35454632221460436, 0.8828416318409111, 0.06408171342071256, 0.9594305746675857, 0.7929196824161089, 0.19176208357657387, 0.6919997745303288, 0.9191240075023792, 1.0811107819747736, 0.09095755905814862, 0.5577233597724529, 0.2506717122755422, 0.5275994225142391, 0.3118912908807374, 0.7610446314795958, 0.5807588159706594, 1.0741490176600479, 0.6110673510193187, 0.9342704814701577, 0.6915695847976604, 0.29887846815211283, 0.2879464351755683, 0.29752336729013784, 0.5164700974220331, 0.8152997200331118, 1.0061026306271579, 0.016502906001392148, 1.2810858378700978, 0.44842437181440786, 0.2576884594927513, 2.0351147199143487, 1.7788532272950714, 0.04493230081493493, 0.6917251373200308, 0.45231069759928744, 0.5568267408170247, 1.2373709707302396, 1.2431483743737886, 0.6841187170886975, 0.7557091209209972, 0.011038180111967222, 1.3816049932641405, 2.0592034469889438, 0.4732717587231612, 1.6451507124783227, 1.2294043434030577, 0.3444055031364037, 0.6726786035061281, 0.3594479631567111, 2.1212658116187484, 2.6451641962350507, 3.98804028934396, 1.5665857593848287, 2.7189449260636316, 0.3938108155223148, 0.7061362776016971, 2.264061423945993, 0.07872655802709616, 0.9302066640788667, 1.170224313218771, 1.7429312921482278, 1.1525721750493112, 1.5380671701426607, 1.2552384950898094, 0.5975768569741753, 0.25332665904788243, 2.211377225900975, 3.915588938625387, 2.695013037001292, 0.16312660334716256, 4.0493646388636755]\n"
          ]
        }
      ]
    },
    {
      "cell_type": "code",
      "source": [
        "pred = results.get_prediction(start=pd.to_datetime('2003-01-01'), dynamic=False)\n",
        "pred_ci = pred.conf_int()\n",
        "garch_forecast = garch_fitted.forecast(horizon = 36)\n",
        "plt.plot(garch_forecast.variance.values[-1, :])\n",
        "plt.show()\n"
      ],
      "metadata": {
        "colab": {
          "base_uri": "https://localhost:8080/",
          "height": 265
        },
        "id": "PAA955Yt_GR2",
        "outputId": "777155b4-adda-4577-c00f-77e1e4094a45"
      },
      "execution_count": null,
      "outputs": [
        {
          "output_type": "display_data",
          "data": {
            "image/png": "[encoded data removed]",
            "text/plain": [
              "<Figure size 432x288 with 1 Axes>"
            ]
          },
          "metadata": {
            "needs_background": "light"
          }
        }
      ]
    },
    {
      "cell_type": "code",
      "source": [
        "ax = data.plot(label='observed')\n",
        "pred.predicted_mean.plot(ax=ax, label='One-step ahead Forecast', alpha=.7)\n",
        "\n",
        "ax.fill_between(pred_ci.index,\n",
        "                pred_ci.iloc[:, 0],\n",
        "                pred_ci.iloc[:, 1], color='k', alpha=.2)\n",
        "\n",
        "ax.set_xlabel('Date')\n",
        "ax.set_ylabel('CO2 Levels')\n",
        "plt.legend()\n",
        "\n",
        "plt.show()"
      ],
      "metadata": {
        "colab": {
          "base_uri": "https://localhost:8080/",
          "height": 279
        },
        "id": "wC21RozD_S0m",
        "outputId": "a46a3d50-2dc8-4469-ada6-8ec2ec52f15a"
      },
      "execution_count": null,
      "outputs": [
        {
          "output_type": "display_data",
          "data": {
            "image/png": "[encoded data removed]",
            "text/plain": [
              "<Figure size 432x288 with 1 Axes>"
            ]
          },
          "metadata": {
            "needs_background": "light"
          }
        }
      ]
    },
    {
      "cell_type": "code",
      "source": [
        "y_forecasted = list(pred.predicted_mean)\n",
        "y_truth = list(data['2003-01-01':]['value'])\n",
        "APE = []\n",
        "for i in range(len(y_forecasted)):\n",
        "  per_err = abs((y_truth[i] - y_forecasted[i]) / y_truth[i])\n",
        "  APE.append(per_err)\n",
        "MAPE = sum(APE)/len(APE)\n",
        "print(MAPE)"
      ],
      "metadata": {
        "colab": {
          "base_uri": "https://localhost:8080/"
        },
        "id": "bLLKVwLs_pTJ",
        "outputId": "cfbbb1b9-be44-4153-a26a-24afd587b486"
      },
      "execution_count": null,
      "outputs": [
        {
          "output_type": "stream",
          "name": "stdout",
          "text": [
            "0.06073209569537392\n"
          ]
        }
      ]
    },
    {
      "cell_type": "code",
      "source": [
        "print(data['1991-01-01':], residuals)\n",
        "print(y_forecasted)\n",
        "print(y_truth)\n",
        "print(len(residuals))\n",
        "print(len(data))"
      ],
      "metadata": {
        "colab": {
          "base_uri": "https://localhost:8080/"
        },
        "id": "UyHuqEoKTH8y",
        "outputId": "a58d2811-d5da-4bd2-af62-0939192d8d1a"
      },
      "execution_count": null,
      "outputs": [
        {
          "output_type": "stream",
          "name": "stdout",
          "text": [
            "                value\n",
            "date                 \n",
            "1991-07-01   3.526591\n",
            "1991-08-01   3.180891\n",
            "1991-09-01   3.252221\n",
            "1991-10-01   3.611003\n",
            "1991-11-01   3.565869\n",
            "...               ...\n",
            "2008-02-01  21.654285\n",
            "2008-03-01  18.264945\n",
            "2008-04-01  23.107677\n",
            "2008-05-01  22.912510\n",
            "2008-06-01  19.431740\n",
            "\n",
            "[204 rows x 1 columns] [3.526591, 0.3456978753680331, 0.07132905139898726, 0.35878232348885586, 0.04513364865664293, 0.7405018574326978, 0.7819649287421528, 2.2738142935479937, 0.17128809598331118, 0.21896988307042742, 0.07720175539685847, 0.14294403947322243, 1.2959679685717558, 0.16662162554035964, 0.2473894092432558, 0.03829630899896008, 0.43048989434523266, 1.0889200885616441, 0.48754077431684273, 0.2441307649049551, 0.12988422589088255, 0.30399890585828127, 0.02650802527843643, 0.07631745174322369, 0.27370608015995934, 0.24256729438704294, 0.16053709850056386, 0.0940572294526838, 0.05522956971935766, 1.0028588599023376, 0.0848561535885235, 0.6326346635481759, 0.2155135910530923, 0.4502081159387519, 0.009989270426436825, 0.07015545537155976, 0.2715100963186794, 0.3175960207865973, 0.10845172579636575, 0.02838514755601551, 0.0899907959767896, 1.1450501320711997, 0.5268262951140024, 0.007539129812516698, 0.3585651752766976, 0.3378667644458986, 0.3117448468461914, 0.09146486947708254, 0.1403510855005301, 0.13423045075335693, 0.17628961897644313, 0.3081041357832408, 0.11029807999033814, 0.1342396289031882, 0.7933028408213394, 0.05649419349655993, 0.5143674316521905, 0.0284019272777849, 0.3161945845829992, 0.20516652380568434, 0.3804467315376403, 0.24567682797048906, 0.04574221618711416, 0.10094186287678575, 0.30028718516949926, 0.4891006458123588, 0.17930262169994826, 0.5788717828818823, 0.3998084006052913, 0.13512405930388827, 0.04389871852177407, 0.3721865330039211, 0.24759485747385668, 0.33408483995115734, 0.21525131954156418, 0.47946047597454644, 0.04375570543380203, 0.9761228635036598, 0.6172655419510864, 0.5669000294861419, 0.11313698134579919, 0.1995946535577664, 0.09537730229840502, 0.23721706121959496, 0.2208333773147677, 0.11245597941810903, 0.4202092467389029, 0.06988994770889434, 0.3927297263948031, 0.19143030210451784, 0.4743414216450166, 0.563216696549409, 0.5013946201169075, 0.373462881653742, 0.20758397317213362, 0.02437322655995544, 0.11251985835768252, 0.7180099938904583, 0.16025672040407102, 0.1537218580345776, 0.47295552377431527, 0.005843979998898519, 1.2227873246935683, 0.39701136079952626, 0.6290794028450684, 0.23375223695043168, 0.2995051750018227, 0.2675566695714746, 0.9474954411850671, 0.5728385597600383, 0.7463873452134493, 0.8949826947137609, 0.25066574703057576, 1.103190000945494, 1.0640584891249532, 0.8965068613686054, 0.010122874164746776, 0.06475710960061498, 0.24547278927251526, 0.820320733378006, 0.24218282127498902, 0.26849926475096275, 0.5290246186542973, 0.43915427319696043, 1.5723977435471426, 0.6499704735488248, 0.9704635205753416, 0.6805733109117789, 1.6813173636811776, 0.1393189842933822, 0.6013988593370758, 0.2722782483949029, 0.30503197912267055, 0.35454632221460436, 0.8828416318409111, 0.06408171342071256, 0.9594305746675857, 0.7929196824161089, 0.19176208357657387, 0.6919997745303288, 0.9191240075023792, 1.0811107819747736, 0.09095755905814862, 0.5577233597724529, 0.2506717122755422, 0.5275994225142391, 0.3118912908807374, 0.7610446314795958, 0.5807588159706594, 1.0741490176600479, 0.6110673510193187, 0.9342704814701577, 0.6915695847976604, 0.29887846815211283, 0.2879464351755683, 0.29752336729013784, 0.5164700974220331, 0.8152997200331118, 1.0061026306271579, 0.016502906001392148, 1.2810858378700978, 0.44842437181440786, 0.2576884594927513, 2.0351147199143487, 1.7788532272950714, 0.04493230081493493, 0.6917251373200308, 0.45231069759928744, 0.5568267408170247, 1.2373709707302396, 1.2431483743737886, 0.6841187170886975, 0.7557091209209972, 0.011038180111967222, 1.3816049932641405, 2.0592034469889438, 0.4732717587231612, 1.6451507124783227, 1.2294043434030577, 0.3444055031364037, 0.6726786035061281, 0.3594479631567111, 2.1212658116187484, 2.6451641962350507, 3.98804028934396, 1.5665857593848287, 2.7189449260636316, 0.3938108155223148, 0.7061362776016971, 2.264061423945993, 0.07872655802709616, 0.9302066640788667, 1.170224313218771, 1.7429312921482278, 1.1525721750493112, 1.5380671701426607, 1.2552384950898094, 0.5975768569741753, 0.25332665904788243, 2.211377225900975, 3.915588938625387, 2.695013037001292, 0.16312660334716256, 4.0493646388636755]\n",
            "[16.636587596423425, 10.492214384530328, 11.73611771750238, 11.735333341974773, 12.603280249058148, 11.603486330227547, 13.248717912275541, 13.044875102514238, 12.956766319119263, 13.972577058520404, 14.25014055597066, 15.429816592339954, 17.39270059898068, 11.003759388529842, 12.30633051520234, 12.583766601847888, 14.231393245175568, 13.691948832709862, 14.822627322577967, 14.555464219966888, 15.135902369372843, 16.669251093998607, 16.355642162129904, 18.420900628185592, 20.521034540507248, 14.18966671991435, 15.181245227295072, 14.504171300814935, 15.48682713732003, 15.252937302400712, 16.386376740817024, 16.317330029269762, 16.857715625626213, 18.180786717088697, 18.591555879079003, 20.042329180111967, 22.10508900673586, 14.596190446988944, 15.94028975872316, 15.878689712478323, 16.553653656596943, 16.636007503136405, 17.652960603506127, 18.25274103684329, 18.744608811618747, 18.785076803764948, 19.58747671065604, 21.76762024061517, 25.319438073936368, 16.370058184477685, 19.0866177223983, 18.691366423945993, 20.922015441972903, 19.750795335921133, 20.66466568678123, 22.187272237851772, 21.777784764950688, 24.80140709014266, 26.50526871508981, 26.403666856974176, 29.91868265904788, 19.442907774099027, 22.180533938625388, 20.412663962998707, 23.075636603347164, 23.481104638863677]\n",
            "[16.82834968, 9.80021461, 10.81699371, 10.65422256, 12.51232269, 12.16120969, 12.9980462, 12.51727568, 13.26865761, 14.73362169, 13.66938174, 16.50396561, 18.00376795, 11.93802987, 12.9979001, 12.88264507, 13.94344681, 13.9894722, 15.33909742, 15.37076394, 16.142005, 16.685754, 17.636728, 18.869325, 20.778723, 12.154552, 13.402392, 14.459239, 14.795102, 15.705248, 15.82955, 17.554701, 18.100864, 17.496668, 19.347265, 20.031291, 23.486694, 12.536987, 15.467018, 14.233539, 17.783058, 16.291602, 16.980282, 18.612189, 16.623343, 21.430241, 23.575517, 23.334206, 28.038383, 16.763869, 19.792754, 16.427305, 21.000742, 20.681002, 21.83489, 23.93020353, 22.93035694, 23.26333992, 25.25003022, 25.80609, 29.665356, 21.654285, 18.264945, 23.107677, 22.91251, 19.43174]\n",
            "204\n",
            "204\n"
          ]
        }
      ]
    },
    {
      "cell_type": "code",
      "source": [
        "print(list(data.index))\n",
        "resid = (pd.DataFrame(residuals, columns = ['residual'], index=data.index))\n",
        "print(resid)"
      ],
      "metadata": {
        "colab": {
          "base_uri": "https://localhost:8080/"
        },
        "id": "Yap28QKCccd4",
        "outputId": "6f5512ac-cddc-4149-a6c7-f48c3d90a869"
      },
      "execution_count": null,
      "outputs": [
        {
          "output_type": "stream",
          "name": "stdout",
          "text": [
            "[Timestamp('1991-07-01 00:00:00'), Timestamp('1991-08-01 00:00:00'), Timestamp('1991-09-01 00:00:00'), Timestamp('1991-10-01 00:00:00'), Timestamp('1991-11-01 00:00:00'), Timestamp('1991-12-01 00:00:00'), Timestamp('1992-01-01 00:00:00'), Timestamp('1992-02-01 00:00:00'), Timestamp('1992-03-01 00:00:00'), Timestamp('1992-04-01 00:00:00'), Timestamp('1992-05-01 00:00:00'), Timestamp('1992-06-01 00:00:00'), Timestamp('1992-07-01 00:00:00'), Timestamp('1992-08-01 00:00:00'), Timestamp('1992-09-01 00:00:00'), Timestamp('1992-10-01 00:00:00'), Timestamp('1992-11-01 00:00:00'), Timestamp('1992-12-01 00:00:00'), Timestamp('1993-01-01 00:00:00'), Timestamp('1993-02-01 00:00:00'), Timestamp('1993-03-01 00:00:00'), Timestamp('1993-04-01 00:00:00'), Timestamp('1993-05-01 00:00:00'), Timestamp('1993-06-01 00:00:00'), Timestamp('1993-07-01 00:00:00'), Timestamp('1993-08-01 00:00:00'), Timestamp('1993-09-01 00:00:00'), Timestamp('1993-10-01 00:00:00'), Timestamp('1993-11-01 00:00:00'), Timestamp('1993-12-01 00:00:00'), Timestamp('1994-01-01 00:00:00'), Timestamp('1994-02-01 00:00:00'), Timestamp('1994-03-01 00:00:00'), Timestamp('1994-04-01 00:00:00'), Timestamp('1994-05-01 00:00:00'), Timestamp('1994-06-01 00:00:00'), Timestamp('1994-07-01 00:00:00'), Timestamp('1994-08-01 00:00:00'), Timestamp('1994-09-01 00:00:00'), Timestamp('1994-10-01 00:00:00'), Timestamp('1994-11-01 00:00:00'), Timestamp('1994-12-01 00:00:00'), Timestamp('1995-01-01 00:00:00'), Timestamp('1995-02-01 00:00:00'), Timestamp('1995-03-01 00:00:00'), Timestamp('1995-04-01 00:00:00'), Timestamp('1995-05-01 00:00:00'), Timestamp('1995-06-01 00:00:00'), Timestamp('1995-07-01 00:00:00'), Timestamp('1995-08-01 00:00:00'), Timestamp('1995-09-01 00:00:00'), Timestamp('1995-10-01 00:00:00'), Timestamp('1995-11-01 00:00:00'), Timestamp('1995-12-01 00:00:00'), Timestamp('1996-01-01 00:00:00'), Timestamp('1996-02-01 00:00:00'), Timestamp('1996-03-01 00:00:00'), Timestamp('1996-04-01 00:00:00'), Timestamp('1996-05-01 00:00:00'), Timestamp('1996-06-01 00:00:00'), Timestamp('1996-07-01 00:00:00'), Timestamp('1996-08-01 00:00:00'), Timestamp('1996-09-01 00:00:00'), Timestamp('1996-10-01 00:00:00'), Timestamp('1996-11-01 00:00:00'), Timestamp('1996-12-01 00:00:00'), Timestamp('1997-01-01 00:00:00'), Timestamp('1997-02-01 00:00:00'), Timestamp('1997-03-01 00:00:00'), Timestamp('1997-04-01 00:00:00'), Timestamp('1997-05-01 00:00:00'), Timestamp('1997-06-01 00:00:00'), Timestamp('1997-07-01 00:00:00'), Timestamp('1997-08-01 00:00:00'), Timestamp('1997-09-01 00:00:00'), Timestamp('1997-10-01 00:00:00'), Timestamp('1997-11-01 00:00:00'), Timestamp('1997-12-01 00:00:00'), Timestamp('1998-01-01 00:00:00'), Timestamp('1998-02-01 00:00:00'), Timestamp('1998-03-01 00:00:00'), Timestamp('1998-04-01 00:00:00'), Timestamp('1998-05-01 00:00:00'), Timestamp('1998-06-01 00:00:00'), Timestamp('1998-07-01 00:00:00'), Timestamp('1998-08-01 00:00:00'), Timestamp('1998-09-01 00:00:00'), Timestamp('1998-10-01 00:00:00'), Timestamp('1998-11-01 00:00:00'), Timestamp('1998-12-01 00:00:00'), Timestamp('1999-01-01 00:00:00'), Timestamp('1999-02-01 00:00:00'), Timestamp('1999-03-01 00:00:00'), Timestamp('1999-04-01 00:00:00'), Timestamp('1999-05-01 00:00:00'), Timestamp('1999-06-01 00:00:00'), Timestamp('1999-07-01 00:00:00'), Timestamp('1999-08-01 00:00:00'), Timestamp('1999-09-01 00:00:00'), Timestamp('1999-10-01 00:00:00'), Timestamp('1999-11-01 00:00:00'), Timestamp('1999-12-01 00:00:00'), Timestamp('2000-01-01 00:00:00'), Timestamp('2000-02-01 00:00:00'), Timestamp('2000-03-01 00:00:00'), Timestamp('2000-04-01 00:00:00'), Timestamp('2000-05-01 00:00:00'), Timestamp('2000-06-01 00:00:00'), Timestamp('2000-07-01 00:00:00'), Timestamp('2000-08-01 00:00:00'), Timestamp('2000-09-01 00:00:00'), Timestamp('2000-10-01 00:00:00'), Timestamp('2000-11-01 00:00:00'), Timestamp('2000-12-01 00:00:00'), Timestamp('2001-01-01 00:00:00'), Timestamp('2001-02-01 00:00:00'), Timestamp('2001-03-01 00:00:00'), Timestamp('2001-04-01 00:00:00'), Timestamp('2001-05-01 00:00:00'), Timestamp('2001-06-01 00:00:00'), Timestamp('2001-07-01 00:00:00'), Timestamp('2001-08-01 00:00:00'), Timestamp('2001-09-01 00:00:00'), Timestamp('2001-10-01 00:00:00'), Timestamp('2001-11-01 00:00:00'), Timestamp('2001-12-01 00:00:00'), Timestamp('2002-01-01 00:00:00'), Timestamp('2002-02-01 00:00:00'), Timestamp('2002-03-01 00:00:00'), Timestamp('2002-04-01 00:00:00'), Timestamp('2002-05-01 00:00:00'), Timestamp('2002-06-01 00:00:00'), Timestamp('2002-07-01 00:00:00'), Timestamp('2002-08-01 00:00:00'), Timestamp('2002-09-01 00:00:00'), Timestamp('2002-10-01 00:00:00'), Timestamp('2002-11-01 00:00:00'), Timestamp('2002-12-01 00:00:00'), Timestamp('2003-01-01 00:00:00'), Timestamp('2003-02-01 00:00:00'), Timestamp('2003-03-01 00:00:00'), Timestamp('2003-04-01 00:00:00'), Timestamp('2003-05-01 00:00:00'), Timestamp('2003-06-01 00:00:00'), Timestamp('2003-07-01 00:00:00'), Timestamp('2003-08-01 00:00:00'), Timestamp('2003-09-01 00:00:00'), Timestamp('2003-10-01 00:00:00'), Timestamp('2003-11-01 00:00:00'), Timestamp('2003-12-01 00:00:00'), Timestamp('2004-01-01 00:00:00'), Timestamp('2004-02-01 00:00:00'), Timestamp('2004-03-01 00:00:00'), Timestamp('2004-04-01 00:00:00'), Timestamp('2004-05-01 00:00:00'), Timestamp('2004-06-01 00:00:00'), Timestamp('2004-07-01 00:00:00'), Timestamp('2004-08-01 00:00:00'), Timestamp('2004-09-01 00:00:00'), Timestamp('2004-10-01 00:00:00'), Timestamp('2004-11-01 00:00:00'), Timestamp('2004-12-01 00:00:00'), Timestamp('2005-01-01 00:00:00'), Timestamp('2005-02-01 00:00:00'), Timestamp('2005-03-01 00:00:00'), Timestamp('2005-04-01 00:00:00'), Timestamp('2005-05-01 00:00:00'), Timestamp('2005-06-01 00:00:00'), Timestamp('2005-07-01 00:00:00'), Timestamp('2005-08-01 00:00:00'), Timestamp('2005-09-01 00:00:00'), Timestamp('2005-10-01 00:00:00'), Timestamp('2005-11-01 00:00:00'), Timestamp('2005-12-01 00:00:00'), Timestamp('2006-01-01 00:00:00'), Timestamp('2006-02-01 00:00:00'), Timestamp('2006-03-01 00:00:00'), Timestamp('2006-04-01 00:00:00'), Timestamp('2006-05-01 00:00:00'), Timestamp('2006-06-01 00:00:00'), Timestamp('2006-07-01 00:00:00'), Timestamp('2006-08-01 00:00:00'), Timestamp('2006-09-01 00:00:00'), Timestamp('2006-10-01 00:00:00'), Timestamp('2006-11-01 00:00:00'), Timestamp('2006-12-01 00:00:00'), Timestamp('2007-01-01 00:00:00'), Timestamp('2007-02-01 00:00:00'), Timestamp('2007-03-01 00:00:00'), Timestamp('2007-04-01 00:00:00'), Timestamp('2007-05-01 00:00:00'), Timestamp('2007-06-01 00:00:00'), Timestamp('2007-07-01 00:00:00'), Timestamp('2007-08-01 00:00:00'), Timestamp('2007-09-01 00:00:00'), Timestamp('2007-10-01 00:00:00'), Timestamp('2007-11-01 00:00:00'), Timestamp('2007-12-01 00:00:00'), Timestamp('2008-01-01 00:00:00'), Timestamp('2008-02-01 00:00:00'), Timestamp('2008-03-01 00:00:00'), Timestamp('2008-04-01 00:00:00'), Timestamp('2008-05-01 00:00:00'), Timestamp('2008-06-01 00:00:00')]\n",
            "            residual\n",
            "date                \n",
            "1991-07-01  3.526591\n",
            "1991-08-01  0.345698\n",
            "1991-09-01  0.071329\n",
            "1991-10-01  0.358782\n",
            "1991-11-01  0.045134\n",
            "...              ...\n",
            "2008-02-01  2.211377\n",
            "2008-03-01  3.915589\n",
            "2008-04-01  2.695013\n",
            "2008-05-01  0.163127\n",
            "2008-06-01  4.049365\n",
            "\n",
            "[204 rows x 1 columns]\n"
          ]
        }
      ]
    },
    {
      "cell_type": "code",
      "source": [
        "am = arch_model(resid, vol=\"Garch\", p=1, o=0, q=1, dist=\"Normal\")\n",
        "res = am.fit(last_obs=\"2003-01-01\", update_freq=5)\n",
        "forecasts = res.forecast(horizon=5)"
      ],
      "metadata": {
        "colab": {
          "base_uri": "https://localhost:8080/"
        },
        "id": "GMUl7jwYYHF_",
        "outputId": "ccfe9622-1f9c-4f06-c9df-2794f1b22d98"
      },
      "execution_count": null,
      "outputs": [
        {
          "output_type": "stream",
          "name": "stdout",
          "text": [
            "Iteration:      5,   Func. Count:     40,   Neg. LLF: 61.15631208329212\n",
            "Iteration:     10,   Func. Count:     73,   Neg. LLF: 61.04678277528562\n",
            "Optimization terminated successfully.    (Exit mode 0)\n",
            "            Current function value: 61.04678277548352\n",
            "            Iterations: 10\n",
            "            Function evaluations: 73\n",
            "            Gradient evaluations: 10\n"
          ]
        }
      ]
    },
    {
      "cell_type": "code",
      "source": [
        "print(forecasts.variance)"
      ],
      "metadata": {
        "colab": {
          "base_uri": "https://localhost:8080/"
        },
        "id": "yWJzhMilYOWn",
        "outputId": "031f16fa-991b-4033-90c7-9d4585833b8f"
      },
      "execution_count": null,
      "outputs": [
        {
          "output_type": "stream",
          "name": "stdout",
          "text": [
            "                 h.1       h.2       h.3       h.4       h.5\n",
            "date                                                        \n",
            "1991-07-01       NaN       NaN       NaN       NaN       NaN\n",
            "1991-08-01       NaN       NaN       NaN       NaN       NaN\n",
            "1991-09-01       NaN       NaN       NaN       NaN       NaN\n",
            "1991-10-01       NaN       NaN       NaN       NaN       NaN\n",
            "1991-11-01       NaN       NaN       NaN       NaN       NaN\n",
            "...              ...       ...       ...       ...       ...\n",
            "2008-02-01  0.584868  0.535612  0.491420  0.451774  0.416204\n",
            "2008-03-01  1.266750  1.147374  1.040274  0.944187  0.857981\n",
            "2008-04-01  1.400412  1.267292  1.147860  1.040710  0.944578\n",
            "2008-05-01  1.184583  1.073656  0.974136  0.884851  0.804746\n",
            "2008-06-01  1.827183  1.650176  1.491371  1.348897  1.221074\n",
            "\n",
            "[204 rows x 5 columns]\n"
          ]
        }
      ]
    },
    {
      "cell_type": "code",
      "source": [
        ""
      ],
      "metadata": {
        "id": "NF5i12erXYTk"
      },
      "execution_count": null,
      "outputs": []
    }
  ]
}